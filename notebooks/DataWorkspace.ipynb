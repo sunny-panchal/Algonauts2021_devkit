{
 "cells": [
  {
   "cell_type": "markdown",
   "metadata": {},
   "source": [
    "# Data exploration"
   ]
  },
  {
   "cell_type": "code",
   "execution_count": 1,
   "metadata": {},
   "outputs": [],
   "source": [
    "import pandas as pd\n",
    "import numpy as np\n",
    "import pickle\n",
    "import os\n",
    "import torch"
   ]
  },
  {
   "cell_type": "code",
   "execution_count": 2,
   "metadata": {},
   "outputs": [],
   "source": [
    "mt_path = os.path.join(os.path.abspath('../'), 'participants_data_v2021', 'mini_track')\n",
    "ft_path = os.path.join(os.path.abspath('../'), 'participants_data_v2021', 'full_track')"
   ]
  },
  {
   "cell_type": "markdown",
   "metadata": {},
   "source": [
    "## MiniTrack"
   ]
  },
  {
   "cell_type": "code",
   "execution_count": 3,
   "metadata": {},
   "outputs": [
    {
     "name": "stdout",
     "output_type": "stream",
     "text": [
      "sub01\n",
      "sub02\n",
      "sub03\n",
      "sub04\n",
      "sub05\n",
      "sub06\n",
      "sub07\n",
      "sub08\n",
      "sub09\n",
      "sub10\n"
     ]
    }
   ],
   "source": [
    "for folder in sorted(os.listdir(mt_path)):\n",
    "    print(folder)"
   ]
  },
  {
   "cell_type": "code",
   "execution_count": 4,
   "metadata": {},
   "outputs": [],
   "source": [
    "sub_1_EBA = pickle.load(open(os.path.join(mt_path, 'sub01', 'EBA.pkl'), 'rb'))"
   ]
  },
  {
   "cell_type": "code",
   "execution_count": 5,
   "metadata": {},
   "outputs": [
    {
     "data": {
      "text/plain": [
       "dict_keys(['train'])"
      ]
     },
     "execution_count": 5,
     "metadata": {},
     "output_type": "execute_result"
    }
   ],
   "source": [
    "sub_1_EBA.keys()"
   ]
  },
  {
   "cell_type": "code",
   "execution_count": 6,
   "metadata": {},
   "outputs": [
    {
     "data": {
      "text/plain": [
       "array([[ 0.25350905, -0.57726972, -0.72763889, ..., -0.53123644,\n",
       "        -0.34700944, -0.87076372],\n",
       "       [ 0.05788916,  0.63083047,  0.23448168, ..., -0.64568988,\n",
       "         0.6862889 ,  1.375431  ],\n",
       "       [ 0.4457479 ,  0.53338382,  0.8011759 , ..., -0.07184202,\n",
       "        -0.22447055,  1.25935497]])"
      ]
     },
     "execution_count": 6,
     "metadata": {},
     "output_type": "execute_result"
    }
   ],
   "source": [
    "sub_1_EBA['train'][0]"
   ]
  },
  {
   "cell_type": "code",
   "execution_count": 7,
   "metadata": {},
   "outputs": [
    {
     "data": {
      "text/plain": [
       "(1000, 3, 351)"
      ]
     },
     "execution_count": 7,
     "metadata": {},
     "output_type": "execute_result"
    }
   ],
   "source": [
    "sub_1_EBA['train'].shape"
   ]
  },
  {
   "cell_type": "code",
   "execution_count": 8,
   "metadata": {},
   "outputs": [],
   "source": [
    "sensenet = torch.load('../sense/resources/backbone/strided_inflated_efficientnet.ckpt')"
   ]
  },
  {
   "cell_type": "code",
   "execution_count": 9,
   "metadata": {},
   "outputs": [],
   "source": [
    "# sensenet.keys()"
   ]
  },
  {
   "cell_type": "markdown",
   "metadata": {},
   "source": [
    "### Results"
   ]
  },
  {
   "cell_type": "code",
   "execution_count": 10,
   "metadata": {},
   "outputs": [],
   "source": [
    "import sys\n",
    "sys.path.append('../')"
   ]
  },
  {
   "cell_type": "code",
   "execution_count": 11,
   "metadata": {},
   "outputs": [
    {
     "name": "stderr",
     "output_type": "stream",
     "text": [
      "/home/spanchal/miniconda3/envs/Algonauts2021/lib/python3.7/site-packages/nilearn/datasets/__init__.py:90: FutureWarning: Fetchers from the nilearn.datasets module will be updated in version 0.9 to return python strings instead of bytes and Pandas dataframes instead of Numpy arrays.\n",
      "  \"Numpy arrays.\", FutureWarning)\n"
     ]
    }
   ],
   "source": [
    "from perform_encoding import get_fmri\n",
    "from utils.ols import vectorized_correlation"
   ]
  },
  {
   "cell_type": "code",
   "execution_count": 12,
   "metadata": {},
   "outputs": [],
   "source": [
    "ROIs = ['LOC', 'FFA', 'STS', 'EBA', 'PPA', 'V1', 'V2', 'V3', 'V4']\n",
    "num_subs = 10\n",
    "\n",
    "results_folder = os.path.join(os.path.abspath('../'), 'results')\n",
    "\n",
    "result_keys = ['alexnet_devkit_5', 'sense_full', 'sense_32']\n",
    "result_dirs = [\n",
    "    'alexnet_devkit/layer_5/mini_track',\n",
    "    'sense_efficientnet/mini_track/full',\n",
    "    'sense_efficientnet/mini_track/pca_32'\n",
    "]\n",
    "result_dirs = [os.path.join(results_folder, dir_) for dir_ in result_dirs]\n",
    "fmri_dir = os.path.join(os.path.abspath('../'), 'participants_data_v2021', 'mini_track')\n",
    "\n",
    "data = {}\n",
    "\n",
    "for result_key, result_dir in zip(result_keys, result_dirs):\n",
    "    data[result_key] = {}\n",
    "    \n",
    "    for roi in ROIs:\n",
    "        data[result_key][roi] = []\n",
    "        data[result_key][f\"{roi}_score\"] = []\n",
    "        \n",
    "        for sub in range(1, 11):\n",
    "            sub = f\"sub{sub:02}\"\n",
    "            sub_fmri_dir = os.path.join(fmri_dir, sub)\n",
    "            \n",
    "            all_fmri_data = get_fmri(sub_fmri_dir, roi)\n",
    "            \n",
    "            fmri_test = all_fmri_data[900:, :]\n",
    "            pred_fmri = np.load(os.path.join(result_dir, sub, f\"{roi}_val.npy\"))\n",
    "            \n",
    "            data[result_key][roi].append(pred_fmri)\n",
    "            data[result_key][f\"{roi}_score\"].append(round(vectorized_correlation(fmri_test, pred_fmri).mean(), 3))"
   ]
  },
  {
   "cell_type": "code",
   "execution_count": 13,
   "metadata": {},
   "outputs": [
    {
     "data": {
      "text/plain": [
       "0.1607"
      ]
     },
     "execution_count": 13,
     "metadata": {},
     "output_type": "execute_result"
    }
   ],
   "source": [
    "np.mean(data['alexnet_devkit_5']['LOC_score'])"
   ]
  },
  {
   "cell_type": "code",
   "execution_count": 14,
   "metadata": {},
   "outputs": [],
   "source": [
    "data_reformated = {'ROIs': ROIs}\n",
    "data_reformated.update({\n",
    "    results_key: [\n",
    "        round(np.mean(data[results_key][f'{roi}_score']), 3) for roi in ROIs\n",
    "    ] for results_key in data\n",
    "})"
   ]
  },
  {
   "cell_type": "code",
   "execution_count": 15,
   "metadata": {},
   "outputs": [],
   "source": [
    "df = pd.DataFrame(data_reformated, columns=data_reformated.keys())"
   ]
  },
  {
   "cell_type": "markdown",
   "metadata": {},
   "source": [
    "#### Validation results"
   ]
  },
  {
   "cell_type": "code",
   "execution_count": 16,
   "metadata": {},
   "outputs": [
    {
     "data": {
      "text/html": [
       "<div>\n",
       "<style scoped>\n",
       "    .dataframe tbody tr th:only-of-type {\n",
       "        vertical-align: middle;\n",
       "    }\n",
       "\n",
       "    .dataframe tbody tr th {\n",
       "        vertical-align: top;\n",
       "    }\n",
       "\n",
       "    .dataframe thead th {\n",
       "        text-align: right;\n",
       "    }\n",
       "</style>\n",
       "<table border=\"1\" class=\"dataframe\">\n",
       "  <thead>\n",
       "    <tr style=\"text-align: right;\">\n",
       "      <th></th>\n",
       "      <th>ROIs</th>\n",
       "      <th>alexnet_devkit_5</th>\n",
       "      <th>sense_full</th>\n",
       "      <th>sense_32</th>\n",
       "    </tr>\n",
       "  </thead>\n",
       "  <tbody>\n",
       "    <tr>\n",
       "      <th>0</th>\n",
       "      <td>LOC</td>\n",
       "      <td>0.161</td>\n",
       "      <td>-0.021</td>\n",
       "      <td>0.175</td>\n",
       "    </tr>\n",
       "    <tr>\n",
       "      <th>1</th>\n",
       "      <td>FFA</td>\n",
       "      <td>0.147</td>\n",
       "      <td>-0.033</td>\n",
       "      <td>0.148</td>\n",
       "    </tr>\n",
       "    <tr>\n",
       "      <th>2</th>\n",
       "      <td>STS</td>\n",
       "      <td>0.087</td>\n",
       "      <td>-0.011</td>\n",
       "      <td>0.100</td>\n",
       "    </tr>\n",
       "    <tr>\n",
       "      <th>3</th>\n",
       "      <td>EBA</td>\n",
       "      <td>0.176</td>\n",
       "      <td>-0.039</td>\n",
       "      <td>0.218</td>\n",
       "    </tr>\n",
       "    <tr>\n",
       "      <th>4</th>\n",
       "      <td>PPA</td>\n",
       "      <td>0.097</td>\n",
       "      <td>0.015</td>\n",
       "      <td>0.102</td>\n",
       "    </tr>\n",
       "    <tr>\n",
       "      <th>5</th>\n",
       "      <td>V1</td>\n",
       "      <td>0.184</td>\n",
       "      <td>-0.011</td>\n",
       "      <td>0.082</td>\n",
       "    </tr>\n",
       "    <tr>\n",
       "      <th>6</th>\n",
       "      <td>V2</td>\n",
       "      <td>0.170</td>\n",
       "      <td>-0.012</td>\n",
       "      <td>0.089</td>\n",
       "    </tr>\n",
       "    <tr>\n",
       "      <th>7</th>\n",
       "      <td>V3</td>\n",
       "      <td>0.150</td>\n",
       "      <td>-0.010</td>\n",
       "      <td>0.103</td>\n",
       "    </tr>\n",
       "    <tr>\n",
       "      <th>8</th>\n",
       "      <td>V4</td>\n",
       "      <td>0.122</td>\n",
       "      <td>-0.004</td>\n",
       "      <td>0.102</td>\n",
       "    </tr>\n",
       "  </tbody>\n",
       "</table>\n",
       "</div>"
      ],
      "text/plain": [
       "  ROIs  alexnet_devkit_5  sense_full  sense_32\n",
       "0  LOC             0.161      -0.021     0.175\n",
       "1  FFA             0.147      -0.033     0.148\n",
       "2  STS             0.087      -0.011     0.100\n",
       "3  EBA             0.176      -0.039     0.218\n",
       "4  PPA             0.097       0.015     0.102\n",
       "5   V1             0.184      -0.011     0.082\n",
       "6   V2             0.170      -0.012     0.089\n",
       "7   V3             0.150      -0.010     0.103\n",
       "8   V4             0.122      -0.004     0.102"
      ]
     },
     "execution_count": 16,
     "metadata": {},
     "output_type": "execute_result"
    }
   ],
   "source": [
    "df"
   ]
  },
  {
   "cell_type": "code",
   "execution_count": null,
   "metadata": {},
   "outputs": [],
   "source": []
  }
 ],
 "metadata": {
  "kernelspec": {
   "display_name": "Python 3",
   "language": "python",
   "name": "python3"
  },
  "language_info": {
   "codemirror_mode": {
    "name": "ipython",
    "version": 3
   },
   "file_extension": ".py",
   "mimetype": "text/x-python",
   "name": "python",
   "nbconvert_exporter": "python",
   "pygments_lexer": "ipython3",
   "version": "3.7.10"
  }
 },
 "nbformat": 4,
 "nbformat_minor": 4
}
